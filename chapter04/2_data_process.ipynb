{
 "cells": [
  {
   "cell_type": "code",
   "execution_count": 133,
   "metadata": {},
   "outputs": [],
   "source": [
    "from captcha.image import ImageCaptcha\n",
    "from keras import backend as K\n",
    "import random\n",
    "import numpy as np\n",
    "\n",
    "import tensorflow.gfile as gfile\n",
    "import matplotlib.pyplot as plt\n",
    "import PIL.Image as Image\n",
    "import glob"
   ]
  },
  {
   "cell_type": "code",
   "execution_count": 134,
   "metadata": {},
   "outputs": [],
   "source": [
    "# 定义常量和字符集\n",
    "\n",
    "NUMBER = ['0', '1', '2', '3', '4', '5', '6', '7', '8', '9']\n",
    "LOWERCASE = ['a', 'b', 'c', 'd', 'e', 'f', 'g', 'h', 'i', 'j', 'k', 'l', 'm', 'n', 'o', 'p', 'q', 'r', 's', 't', 'u',\n",
    "            'v', 'w', 'x', 'y', 'z']\n",
    "UPPERCASE = ['A', 'B', 'C', 'D', 'E', 'F', 'G', 'H', 'I', 'J', 'K', 'L', 'M', 'N', 'O', 'P', 'Q', 'R', 'S', 'T', 'U',\n",
    "           'V', 'W', 'X', 'Y', 'Z']\n",
    "\n",
    "CAPTCHA_CHARSET = NUMBER   # 验证码字符集\n",
    "CAPTCHA_LEN = 4            # 验证码长度\n",
    "CAPTCHA_HEIGHT = 60        # 验证码高度\n",
    "CAPTCHA_WIDTH = 160        # 验证码宽度\n",
    "\n",
    "TRAIN_DATASET_SIZE = 5000 # 验证码数据集大小\n",
    "TEST_DATASET_SIZE = 1000 \n",
    "TRAIN_DATA_DIR = './train_data/' # 验证码数据集目录\n",
    "TEST_DATA_DIR = './test_data/'"
   ]
  },
  {
   "cell_type": "code",
   "execution_count": 135,
   "metadata": {},
   "outputs": [],
   "source": [
    "image = []\n",
    "text = []\n",
    "count = 0\n",
    "for filename in glob.glob(TRAIN_DATA_DIR + '*.png'):\n",
    "    image.append(np.array(Image.open(filename)))\n",
    "    text.append(filename.lstrip(TRAIN_DATA_DIR).lstrip('\\\\').rstrip('.png'))\n",
    "    count += 1\n",
    "    if count >= 100:\n",
    "        break"
   ]
  },
  {
   "cell_type": "code",
   "execution_count": 136,
   "metadata": {},
   "outputs": [
    {
     "name": "stdout",
     "output_type": "stream",
     "text": [
      "(100, 60, 160, 3)\n"
     ]
    }
   ],
   "source": [
    "image = np.array(image, dtype=np.float32)\n",
    "print(image.shape)"
   ]
  },
  {
   "cell_type": "code",
   "execution_count": 137,
   "metadata": {},
   "outputs": [],
   "source": [
    "# rgb 转 灰度图\n",
    "def rbg2gray(img):\n",
    "    # Y' = 0.299 R + 0.587 G + 0.114 B\n",
    "    return np.dot(img[...,:3], [0.299, 0.587, 0.114])"
   ]
  },
  {
   "cell_type": "code",
   "execution_count": 138,
   "metadata": {},
   "outputs": [
    {
     "name": "stdout",
     "output_type": "stream",
     "text": [
      "[[0.9878549 0.9878549 0.9878549 ... 0.9878549 0.9878549 0.9878549]\n",
      " [0.9878549 0.9878549 0.9878549 ... 0.9878549 0.9878549 0.9878549]\n",
      " [0.9878549 0.9878549 0.9878549 ... 0.9878549 0.9878549 0.9878549]\n",
      " ...\n",
      " [0.9878549 0.9878549 0.9878549 ... 0.9878549 0.9878549 0.9878549]\n",
      " [0.9878549 0.9878549 0.9878549 ... 0.9878549 0.9878549 0.9878549]\n",
      " [0.9878549 0.9878549 0.9878549 ... 0.9878549 0.9878549 0.9878549]]\n"
     ]
    }
   ],
   "source": [
    "image = rbg2gray(image)\n",
    "image = image / 255\n",
    "print(image[0])"
   ]
  },
  {
   "cell_type": "code",
   "execution_count": 139,
   "metadata": {},
   "outputs": [],
   "source": [
    "# 适配keras图像数据格式\n",
    "def fit_keras_channels(batch, rows=CAPTCHA_HEIGHT, cols=CAPTCHA_WIDTH):\n",
    "    if K.image_data_format() == 'channels_first':\n",
    "        batch = batch.reshape(batch.shape[0], 1, rows, cols)\n",
    "        input_shape = (1, rows, cols)\n",
    "    else:\n",
    "        batch = batch.reshape(batch.shape[0], rows, cols, 1)\n",
    "        input_shape = (rows, cols, 1)\n",
    "    \n",
    "    return batch, input_shape"
   ]
  },
  {
   "cell_type": "code",
   "execution_count": 140,
   "metadata": {},
   "outputs": [],
   "source": [
    "image, input_shape = fit_keras_channels(image)\n"
   ]
  },
  {
   "cell_type": "code",
   "execution_count": 141,
   "metadata": {},
   "outputs": [],
   "source": [
    "# one-hot 编码\n",
    "def text2vec(text, length=CAPTCHA_LEN, charset=CAPTCHA_CHARSET):\n",
    "    text_len = len(text)\n",
    "    if (text_len != length):\n",
    "        raise ValueError('Error, length error')\n",
    "    vec = np.zeros(length * len(charset))\n",
    "    for i in range(length):\n",
    "        vec[charset.index(text[i]) + i*len(charset)] = 1\n",
    "    return vec"
   ]
  },
  {
   "cell_type": "code",
   "execution_count": 142,
   "metadata": {},
   "outputs": [],
   "source": [
    "text = list(text)\n",
    "vec = [None]*len(text)"
   ]
  },
  {
   "cell_type": "code",
   "execution_count": 143,
   "metadata": {},
   "outputs": [],
   "source": [
    "for i in range(len(vec)):\n",
    "    vec[i] = text2vec(text[i])"
   ]
  },
  {
   "cell_type": "code",
   "execution_count": 145,
   "metadata": {},
   "outputs": [
    {
     "name": "stdout",
     "output_type": "stream",
     "text": [
      "[1. 0. 0. 0. 0. 0. 0. 0. 0. 0. 1. 0. 0. 0. 0. 0. 0. 0. 0. 0. 1. 0. 0. 0.\n",
      " 0. 0. 0. 0. 0. 0. 1. 0. 0. 0. 0. 0. 0. 0. 0. 0.]\n",
      "0000\n"
     ]
    }
   ],
   "source": [
    "print(vec[0])\n",
    "print(text[0])"
   ]
  },
  {
   "cell_type": "code",
   "execution_count": null,
   "metadata": {},
   "outputs": [],
   "source": [
    "## 将验证码向量解码为对应字符\n",
    "def vec2text(vector):\n",
    "    if not isinstance(vector, np.ndarray):\n",
    "        vecvor = np.asarray(vector)\n",
    "    vector = np.reshape(vecvor, [CAPTCHA_LEN, -1])\n",
    "    text = ''\n",
    "    for item in vector:\n",
    "        text += CAPTCHA_CHARSET[np.argmax(item)]\n",
    "    return text"
   ]
  }
 ],
 "metadata": {
  "kernelspec": {
   "display_name": "Python 3",
   "language": "python",
   "name": "python3"
  },
  "language_info": {
   "codemirror_mode": {
    "name": "ipython",
    "version": 3
   },
   "file_extension": ".py",
   "mimetype": "text/x-python",
   "name": "python",
   "nbconvert_exporter": "python",
   "pygments_lexer": "ipython3",
   "version": "3.6.8"
  }
 },
 "nbformat": 4,
 "nbformat_minor": 2
}
